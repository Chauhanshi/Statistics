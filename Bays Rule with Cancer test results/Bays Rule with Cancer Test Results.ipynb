{
 "cells": [
  {
   "cell_type": "markdown",
   "metadata": {
    "collapsed": true
   },
   "source": [
    "# Cancer Test Results"
   ]
  },
  {
   "cell_type": "markdown",
   "metadata": {},
   "source": [
    "We will learn to apply the **Bays Rule** in this project. "
   ]
  },
  {
   "cell_type": "markdown",
   "metadata": {},
   "source": [
    "In this project, we will first find the following probabilities from the data given(prior probability): \n",
    "- Patients with cancer\n",
    "- Patients without cancer\n",
    "- Patients with cancer who tested positive\n",
    "- Patients with cancer who tested negative\n",
    "- Patients without cancer who tested positive\n",
    "- Patients without cancer who tested negative"
   ]
  },
  {
   "cell_type": "markdown",
   "metadata": {},
   "source": [
    "Then we will find the following probalities using Bays Rule(posterior probability):\n",
    "- patients who tested positive has cancer\n",
    "- patients who tested positive does not has cancer\n",
    "- patients who tested negative has cancer\n",
    "- patients who tested negative does not has cancer"
   ]
  },
  {
   "cell_type": "code",
   "execution_count": 1,
   "metadata": {},
   "outputs": [
    {
     "data": {
      "text/html": [
       "<div>\n",
       "<style scoped>\n",
       "    .dataframe tbody tr th:only-of-type {\n",
       "        vertical-align: middle;\n",
       "    }\n",
       "\n",
       "    .dataframe tbody tr th {\n",
       "        vertical-align: top;\n",
       "    }\n",
       "\n",
       "    .dataframe thead th {\n",
       "        text-align: right;\n",
       "    }\n",
       "</style>\n",
       "<table border=\"1\" class=\"dataframe\">\n",
       "  <thead>\n",
       "    <tr style=\"text-align: right;\">\n",
       "      <th></th>\n",
       "      <th>patient_id</th>\n",
       "      <th>test_result</th>\n",
       "      <th>has_cancer</th>\n",
       "    </tr>\n",
       "  </thead>\n",
       "  <tbody>\n",
       "    <tr>\n",
       "      <th>0</th>\n",
       "      <td>79452</td>\n",
       "      <td>Negative</td>\n",
       "      <td>False</td>\n",
       "    </tr>\n",
       "    <tr>\n",
       "      <th>1</th>\n",
       "      <td>81667</td>\n",
       "      <td>Positive</td>\n",
       "      <td>True</td>\n",
       "    </tr>\n",
       "    <tr>\n",
       "      <th>2</th>\n",
       "      <td>76297</td>\n",
       "      <td>Negative</td>\n",
       "      <td>False</td>\n",
       "    </tr>\n",
       "    <tr>\n",
       "      <th>3</th>\n",
       "      <td>36593</td>\n",
       "      <td>Negative</td>\n",
       "      <td>False</td>\n",
       "    </tr>\n",
       "    <tr>\n",
       "      <th>4</th>\n",
       "      <td>53717</td>\n",
       "      <td>Negative</td>\n",
       "      <td>False</td>\n",
       "    </tr>\n",
       "  </tbody>\n",
       "</table>\n",
       "</div>"
      ],
      "text/plain": [
       "   patient_id test_result  has_cancer\n",
       "0       79452    Negative       False\n",
       "1       81667    Positive        True\n",
       "2       76297    Negative       False\n",
       "3       36593    Negative       False\n",
       "4       53717    Negative       False"
      ]
     },
     "execution_count": 1,
     "metadata": {},
     "output_type": "execute_result"
    }
   ],
   "source": [
    "# load dataset\n",
    "import pandas as pd\n",
    "\n",
    "df = pd.read_csv(\"cancer_test_data.csv\")\n",
    "\n",
    "df.head()"
   ]
  },
  {
   "cell_type": "code",
   "execution_count": 4,
   "metadata": {},
   "outputs": [
    {
     "name": "stdout",
     "output_type": "stream",
     "text": [
      "0\n"
     ]
    },
    {
     "data": {
      "text/plain": [
       "2914"
      ]
     },
     "execution_count": 4,
     "metadata": {},
     "output_type": "execute_result"
    }
   ],
   "source": [
    "# number of patients\n",
    "print(df.duplicated().sum())\n",
    "df.patient_id.nunique()"
   ]
  },
  {
   "cell_type": "code",
   "execution_count": 11,
   "metadata": {},
   "outputs": [
    {
     "data": {
      "text/plain": [
       "False    2608\n",
       "True      306\n",
       "Name: has_cancer, dtype: int64"
      ]
     },
     "execution_count": 11,
     "metadata": {},
     "output_type": "execute_result"
    }
   ],
   "source": [
    "# number of patients with cancer\n",
    "df.has_cancer.value_counts()"
   ]
  },
  {
   "cell_type": "code",
   "execution_count": 12,
   "metadata": {},
   "outputs": [
    {
     "data": {
      "text/plain": [
       "False    2608\n",
       "True      306\n",
       "Name: has_cancer, dtype: int64"
      ]
     },
     "execution_count": 12,
     "metadata": {},
     "output_type": "execute_result"
    }
   ],
   "source": [
    "# number of patients without cancer\n",
    "df.has_cancer.value_counts()"
   ]
  },
  {
   "cell_type": "code",
   "execution_count": 18,
   "metadata": {},
   "outputs": [
    {
     "data": {
      "text/plain": [
       "0.10501029512697323"
      ]
     },
     "execution_count": 18,
     "metadata": {},
     "output_type": "execute_result"
    }
   ],
   "source": [
    "# proportion of patients with cancer\n",
    "prop_with_c = len(df.query(\"has_cancer == True\"))/len(df)\n",
    "prop_with_c"
   ]
  },
  {
   "cell_type": "code",
   "execution_count": 19,
   "metadata": {},
   "outputs": [
    {
     "data": {
      "text/plain": [
       "0.8949897048730268"
      ]
     },
     "execution_count": 19,
     "metadata": {},
     "output_type": "execute_result"
    }
   ],
   "source": [
    "# proportion of patients without cancer\n",
    "prop_without_c = len(df.query(\"has_cancer == False\"))/len(df)\n",
    "prop_without_c"
   ]
  },
  {
   "cell_type": "code",
   "execution_count": 22,
   "metadata": {},
   "outputs": [
    {
     "data": {
      "text/plain": [
       "2637.8366013071895"
      ]
     },
     "execution_count": 22,
     "metadata": {},
     "output_type": "execute_result"
    }
   ],
   "source": [
    "# proportion of patients with cancer who test positive\n",
    "prop_pos = len(df.query(\"has_cancer == True & test_result == 'Positive'\"))/ len(df.query('has_cancer'))\n",
    "prop_pos"
   ]
  },
  {
   "cell_type": "code",
   "execution_count": 23,
   "metadata": {},
   "outputs": [
    {
     "data": {
      "text/plain": [
       "276.16339869281046"
      ]
     },
     "execution_count": 23,
     "metadata": {},
     "output_type": "execute_result"
    }
   ],
   "source": [
    "# proportion of patients with cancer who test negative\n",
    "prop_neg = len(df.query(\"has_cancer == True & test_result == 'Negative'\"))/ len(df.query('has_cancer'))\n",
    "prop_neg"
   ]
  },
  {
   "cell_type": "code",
   "execution_count": 27,
   "metadata": {},
   "outputs": [
    {
     "data": {
      "text/plain": [
       "1.7352941176470589"
      ]
     },
     "execution_count": 27,
     "metadata": {},
     "output_type": "execute_result"
    }
   ],
   "source": [
    "# proportion of patients without cancer who test positive\n",
    "prop_pos_without = len(df.query(\"has_cancer == False & test_result == 'Positive'\"))/ len(df.query(\"has_cancer == False\"))\n",
    "prop_pos_without"
   ]
  },
  {
   "cell_type": "code",
   "execution_count": 28,
   "metadata": {},
   "outputs": [
    {
     "data": {
      "text/plain": [
       "0.7963957055214724"
      ]
     },
     "execution_count": 28,
     "metadata": {},
     "output_type": "execute_result"
    }
   ],
   "source": [
    "# proportion of patients without cancer who test negative\n",
    "prop_neg_without = len(df.query(\"has_cancer == False & test_result == 'Negative'\"))/ len(df.query(\"has_cancer == False\"))\n",
    "prop_neg_without"
   ]
  },
  {
   "cell_type": "markdown",
   "metadata": {},
   "source": [
    "Based on the above proportions observed in the data, we can assume the following probabilities."
   ]
  },
  {
   "cell_type": "markdown",
   "metadata": {},
   "source": [
    "### Probability\n",
    "- `P(cancer) = 0.105`\tProbability a patient has cancer\n",
    "- `P(~cancer) = 0.895`\tProbability a patient does not have cancer\n",
    "- `P(positive|cancer) = 0.905`\tProbability a patient with cancer tests positive\n",
    "- `P(negative|cancer) = 0.095`\tProbability a patient with cancer tests negative\n",
    "- `P(positive|~cancer) = 0.204`\tProbability a patient without cancer tests positive\n",
    "- `P(negative|~cancer) = 0.796`\tProbability a patient without cancer tests negative"
   ]
  },
  {
   "cell_type": "markdown",
   "metadata": {},
   "source": [
    "## Bays Rule"
   ]
  },
  {
   "cell_type": "code",
   "execution_count": 4,
   "metadata": {},
   "outputs": [
    {
     "data": {
      "text/plain": [
       "0.34230291241151994"
      ]
     },
     "execution_count": 4,
     "metadata": {},
     "output_type": "execute_result"
    }
   ],
   "source": [
    "# What proportion of patients who tested positive has cancer?\n",
    "\n",
    "'''P(c)P(pos|c) / P(c)P(pos|c) + P(~c)P(pos|~c) '''\n",
    "\n",
    "(0.105*0.905) / (0.105*0.905 + 0.895*0.204) "
   ]
  },
  {
   "cell_type": "code",
   "execution_count": 5,
   "metadata": {},
   "outputs": [
    {
     "data": {
      "text/plain": [
       "0.65769708758848"
      ]
     },
     "execution_count": 5,
     "metadata": {},
     "output_type": "execute_result"
    }
   ],
   "source": [
    "# What proportion of patients who tested positive doesn't have cancer?\n",
    "\n",
    "'''P(~c)P(pos|~c) / P(c)P(pos|c) + P(~c)P(pos|~c) '''\n",
    "\n",
    "(0.895*0.204) / (0.105*0.905 + 0.895*0.204) "
   ]
  },
  {
   "cell_type": "code",
   "execution_count": 6,
   "metadata": {},
   "outputs": [
    {
     "data": {
      "text/plain": [
       "0.013808235106832134"
      ]
     },
     "execution_count": 6,
     "metadata": {},
     "output_type": "execute_result"
    }
   ],
   "source": [
    "# What proportion of patients who tested negative has cancer?\n",
    "\n",
    "'''P(c)P(neg|c) / P(c)P(neg|c) + P(~c)P(neg|~c) '''\n",
    "\n",
    "(0.105*0.095) / (0.105*0.095 + 0.895*0.796) "
   ]
  },
  {
   "cell_type": "code",
   "execution_count": 7,
   "metadata": {},
   "outputs": [
    {
     "data": {
      "text/plain": [
       "0.986191764893168"
      ]
     },
     "execution_count": 7,
     "metadata": {},
     "output_type": "execute_result"
    }
   ],
   "source": [
    "# What proportion of patients who tested negative doesn't have cancer?\n",
    "'''P(~c)P(neg|~c) / P(c)P(neg|c) + P(~c)P(neg|~c) '''\n",
    "\n",
    "(0.895*0.796) / (0.105*0.095 + 0.895*0.796) "
   ]
  },
  {
   "cell_type": "markdown",
   "metadata": {},
   "source": [
    "# Conclusion"
   ]
  },
  {
   "cell_type": "markdown",
   "metadata": {},
   "source": [
    "Probalities using Bays Rule(posterior probability):\n",
    "- patients who tested positive has cancer          `0.34`\n",
    "- patients who tested positive does not has cancer `0.66`\n",
    "- patients who tested negative has cancer          `0.01`\n",
    "- patients who tested negative does not has cancer `0.99`"
   ]
  }
 ],
 "metadata": {
  "kernelspec": {
   "display_name": "Python 3",
   "language": "python",
   "name": "python3"
  },
  "language_info": {
   "codemirror_mode": {
    "name": "ipython",
    "version": 3
   },
   "file_extension": ".py",
   "mimetype": "text/x-python",
   "name": "python",
   "nbconvert_exporter": "python",
   "pygments_lexer": "ipython3",
   "version": "3.7.3"
  }
 },
 "nbformat": 4,
 "nbformat_minor": 2
}
